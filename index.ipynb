{
 "cells": [
  {
   "cell_type": "markdown",
   "metadata": {
    "slideshow": {
     "slide_type": "slide"
    }
   },
   "source": [
    "# Single Cell and Spatial Transcriptomics Analysis\n",
    "\n",
    "### JAX Sleep-AD Short Course, October 2022\n",
    "\n",
    "#### Bill Flynn, Associate Director Single Cell Biology, JAX\n",
    "#### bill.flynn@jax.org\n",
    "\n"
   ]
  },
  {
   "cell_type": "markdown",
   "metadata": {
    "slideshow": {
     "slide_type": "skip"
    }
   },
   "source": [
    "## Outline\n",
    "\n",
    "- (Skippable as there were multiple talks regarding bulk RNA-seq) \n",
    "    - Recap of RNA-seq.  Why do you do it.\n",
    "    - History of cell definitions\n",
    "    - History of isolating single cells\n",
    "- Simpson's paradox.  Case study of when RNA-seq leads to problems at single cell resolution.\n",
    "- General overview of scRNA-seq (reads -> align -> matrix -> analysis)\n",
    "- Recent history of scRNA-seq methods\n",
    "- Importance of UMIs\n",
    "- Explanation of 10X genomics\n",
    "- Structure of reads/bams\n",
    "- Sparsity, dropout, etc.\n",
    "- How do call cells\n",
    "- Metrics of quality\n",
    "- How does one go about analyzing a matrix?  What decisions are made?\n",
    "    - Cell quality, what is good, what is bad, how does one filter out bad?\n",
    "    - Normalization, why and how?\n",
    "    - Dimesionality reduction -> why?\n",
    "        - PCA and scaling\n",
    "        - t-SNE\n",
    "        - UMAP and nearest-neighbor embeddings\n",
    "        - How to judge what's good and bad?\n",
    "    - Clustering\n",
    "        - General problems\n",
    "        - Different ways to do it and benefits/downsides of each\n",
    "    - Marker Gene identification\n",
    "- One major limitation of single cell technologies is missing spatial information.\n",
    "- Microscopy?"
   ]
  },
  {
   "cell_type": "markdown",
   "metadata": {
    "slideshow": {
     "slide_type": "slide"
    }
   },
   "source": [
    "## Workshop Goals\n",
    "\n",
    "1. Understand the technologies and analysis methods available in the single cell field to critically examine publications, start your own analysis, etc.\n",
    "2. Understand the **challenges** these methods face.  A good review: https://genomebiology.biomedcentral.com/articles/10.1186/s13059-020-1926-6\n",
    "3. For single cell RNA sequencing:\n",
    "    - Understand the analysis decisions and common pitfalls involved with typical experiments\n",
    "    - Know where to start and what tools are available if you are faced with analysis of this data.\n",
    "4. For spatial experiments:\n",
    "    - Get excited about the future!"
   ]
  },
  {
   "cell_type": "markdown",
   "metadata": {
    "slideshow": {
     "slide_type": "slide"
    }
   },
   "source": [
    "## Workshop Structure\n",
    "\n",
    "1. Motivating the case for single cell transcriptomics\n",
    "2. Concepts needed for single cell RNA-sequencing  \n",
    "3. Current dissociative technologies\n",
    "4. Bringing in spatial\n",
    "5. Analysis overview\n",
    "6. Interactive sessions with Scanpy\n",
    "\n",
    "Slides available at: https://wflynny.github.io/JAX-Sleep-AD-2022"
   ]
  },
  {
   "cell_type": "markdown",
   "metadata": {
    "slideshow": {
     "slide_type": "slide"
    }
   },
   "source": [
    "## What is a cell?\n",
    ">That there is one universal principle of development for the elementary part of organisms, however different, and that this principle is the formation of cells. \n",
    "\n",
    "_Microscopical researches into the accordance in the structure and growth of animals and plants_\n",
    "Theodor Schwann (1810--1882)\n",
    "\n",
    "<!--<img src=\"img/Theodor_Schwann_Litho.jpg\" width=\"25%\">-->"
   ]
  },
  {
   "cell_type": "markdown",
   "metadata": {
    "slideshow": {
     "slide_type": "subslide"
    }
   },
   "source": [
    "## Understanding what makes a cell a cell\n",
    "\n",
    "One of the major goals of Cell Biology has been to uncover and characterize the diverse set of cells that are life's building blocks.\n",
    "\n",
    "For a long time, this was done manually with microscopes.\n",
    "\n",
    "<img src=\"img/Wilson1900Fig2.jpg\" width=\"50%\">"
   ]
  },
  {
   "cell_type": "markdown",
   "metadata": {
    "slideshow": {
     "slide_type": "subslide"
    }
   },
   "source": [
    "## Early cataloging of retina cells, Ramon y Cajal\n",
    "<img src=\"img/Cajal2.jpg\" width=\"50%\" rotation=90/>\n"
   ]
  },
  {
   "cell_type": "markdown",
   "metadata": {
    "slideshow": {
     "slide_type": "subslide"
    }
   },
   "source": [
    "## Advancements in multiple areas improved ability to describe cells\n",
    "\n",
    "- Molecular biology --> improvements in isolation and dissociation\n",
    "    - enzymes, laboratory techniques\n",
    "    - discovery of DNA, RNA\n",
    "- Microscopy --> better morphological descriptions and throughput"
   ]
  },
  {
   "cell_type": "markdown",
   "metadata": {
    "slideshow": {
     "slide_type": "fragment"
    }
   },
   "source": [
    "### More recent advancements have led to more ways to describe cells:\n",
    "- Sequencing allows us to characterize both interior and exterior of cells\n",
    "- Microfluidic valves and droplets dramatically increase the throughput with which to capture and probe individual cells"
   ]
  },
  {
   "cell_type": "markdown",
   "metadata": {
    "slideshow": {
     "slide_type": "subslide"
    }
   },
   "source": [
    "## Many sizes, shapes, functions\n",
    "\n",
    "<img src=\"img/paul_cells.smaller.png\"/>"
   ]
  },
  {
   "cell_type": "markdown",
   "metadata": {
    "slideshow": {
     "slide_type": "subslide"
    }
   },
   "source": [
    "## This functional, morphological, and spatial heterogeneity implies heterogeneity within and between types of cells"
   ]
  },
  {
   "cell_type": "markdown",
   "metadata": {
    "slideshow": {
     "slide_type": "slide"
    }
   },
   "source": [
    "## How do we profile single cells?\n",
    "<img src=\"img/bowl-of-fruit.jpg\">"
   ]
  },
  {
   "cell_type": "markdown",
   "metadata": {
    "slideshow": {
     "slide_type": "subslide"
    }
   },
   "source": [
    "## Started by micropipetting individual cells\n",
    "\n",
    "<img src=\"img/micropipetting.png\">\n",
    "\n",
    "Extremely labor-intensive, yielding on the order of a dozen cells.\n",
    "\n",
    "This was _the only_ process up until about 50 years ago, and is still utilized today."
   ]
  },
  {
   "cell_type": "markdown",
   "metadata": {
    "slideshow": {
     "slide_type": "subslide"
    }
   },
   "source": [
    "## Then graduated to flow cytometry\n",
    "\n",
    "<img src=\"img/flow-cytometry.png\" width=\"60%\"/>\n",
    "\n",
    "Available since the 1970s.  Currently 28 fluorescent probes or 40 mass spectrometry-based probes available."
   ]
  },
  {
   "cell_type": "markdown",
   "metadata": {
    "slideshow": {
     "slide_type": "subslide"
    }
   },
   "source": [
    "## This can be challenging when the heterogeneity is (externally) subtle\n",
    "<img src=\"img/berries.png\" width=70%>"
   ]
  },
  {
   "cell_type": "markdown",
   "metadata": {
    "slideshow": {
     "slide_type": "subslide"
    }
   },
   "source": [
    "## How to increase the measurable set of features?\n",
    "\n",
    "<img src=\"img/fruit-features.png\" width=\"80%\">"
   ]
  },
  {
   "cell_type": "markdown",
   "metadata": {
    "slideshow": {
     "slide_type": "subslide"
    }
   },
   "source": [
    "In order to profile cells more deeply, we must explore the properties that define a cell from the _inside_."
   ]
  },
  {
   "cell_type": "markdown",
   "metadata": {
    "slideshow": {
     "slide_type": "slide"
    }
   },
   "source": [
    "## The transcriptome defines a cell\n"
   ]
  },
  {
   "cell_type": "markdown",
   "metadata": {
    "slideshow": {
     "slide_type": "fragment"
    }
   },
   "source": [
    "## A Cell’s Function is Determined By the Repertoire of Genes It Expresses\n"
   ]
  },
  {
   "cell_type": "markdown",
   "metadata": {
    "slideshow": {
     "slide_type": "fragment"
    }
   },
   "source": [
    "## Characterization of a cell from the inside\n",
    "\n",
    "- Each cell type expresses a specific fraction of genes, these define its function.\n",
    "- ~15,000--150,000 mRNA molecules per cell\n",
    "- Levels of gene-specific mRNA expression are characteristic of cell type (i.e. not just binary on/off)"
   ]
  },
  {
   "cell_type": "markdown",
   "metadata": {
    "slideshow": {
     "slide_type": "fragment"
    }
   },
   "source": [
    "## Single Cell Transcriptomics _is_ Cell Biology"
   ]
  },
  {
   "cell_type": "markdown",
   "metadata": {
    "slideshow": {
     "slide_type": "subslide"
    }
   },
   "source": [
    "## With the genome sequenced and annotated, we can define the unknown\n",
    "\n",
    "- Limited set of genes (~30,000) to define all cell types in the human and mouse genome\n",
    "\n",
    "- Unique combinations of these genes will define all cell types\n",
    "\n",
    "- Single cell transcriptomics thus provides an unbiased approach to define all cell types\n",
    "\n",
    "- Defining the transcriptomes of individual cell types will provide insight into this cell’s function\n",
    "\n",
    "- Identify rare or unknown cells\n",
    "\n",
    "<img src=\"img/rare-fruits.png\" width=\"50%\">"
   ]
  },
  {
   "cell_type": "markdown",
   "metadata": {
    "slideshow": {
     "slide_type": "slide"
    }
   },
   "source": [
    "## Can't we just use bulk RNA-seq to understand cellular makeup?\n",
    "\n",
    "<img src=\"img/fruit-smoothie.jpg\" width=\"48%\">"
   ]
  },
  {
   "cell_type": "markdown",
   "metadata": {
    "slideshow": {
     "slide_type": "subslide"
    }
   },
   "source": [
    "## Signals about cellular makeup from bulk RNA-seq can be misleading\n",
    "\n",
    "<img src=\"img/simpsons-paradox.gif\" width=\"75%\">"
   ]
  },
  {
   "cell_type": "markdown",
   "metadata": {
    "slideshow": {
     "slide_type": "subslide"
    }
   },
   "source": [
    "## An example: molecular subtypes of glioblastoma\n",
    "\n",
    "Bulk gene signatures define 4 molecular subtypes in GBM.\n",
    "\n",
    "<img src=\"img/verhaak2010.jpg\">\n",
    "\n",
    "[_Verhaak et al **Cancer Cell** 2010_](https://linkinghub.elsevier.com/retrieve/pii/S1535610809004322)"
   ]
  },
  {
   "cell_type": "markdown",
   "metadata": {
    "slideshow": {
     "slide_type": "subslide"
    }
   },
   "source": [
    "## An example: molecular subtypes of glioblastoma\n",
    "\n",
    "<img src=\"img/patel2014.png\" width=\"60%\">\n",
    "\n",
    "When applied to the single cell transcriptomes of 5 patients, tumors are made up of a mix of cells from each subtype.  \n",
    "Some cells even express multiple subtype signatures.\n",
    "\n",
    "[_Patel et al. **Science** 2014_](http://science.sciencemag.org/content/344/6190/1396.full)"
   ]
  },
  {
   "cell_type": "markdown",
   "metadata": {
    "slideshow": {
     "slide_type": "subslide"
    }
   },
   "source": [
    "## That said, bulk is not inferior to scRNA-seq\n",
    "\n",
    "- It's at least 5x the cost of RNA-seq per sample\n",
    "- Can be overkill for homogeneous samples\n",
    "- Sensitivity is frankly just lower\n",
    "- Full-length scRNA-seq is still fairly low-throughput _or_ highly manual to do in large quantities"
   ]
  },
  {
   "cell_type": "markdown",
   "metadata": {
    "slideshow": {
     "slide_type": "subslide"
    }
   },
   "source": [
    "### I'd argue we should see bulk _in addition to_ single cell for most studies\n",
    "\n",
    "<img src=\"img/endo1.png\">"
   ]
  },
  {
   "cell_type": "markdown",
   "metadata": {
    "slideshow": {
     "slide_type": "subslide"
    }
   },
   "source": [
    "### I'd argue we should see bulk _in addition to_ single cell for most studies\n",
    "\n",
    "<img src=\"img/endo2.png\">"
   ]
  },
  {
   "cell_type": "markdown",
   "metadata": {
    "slideshow": {
     "slide_type": "slide"
    }
   },
   "source": [
    "## How is high throughput sequencing of single cells done?"
   ]
  },
  {
   "cell_type": "markdown",
   "metadata": {
    "slideshow": {
     "slide_type": "subslide"
    }
   },
   "source": [
    "## Overview scRNA-seq workflow\n",
    "\n",
    "<img src=\"img/workflow.png\">"
   ]
  },
  {
   "cell_type": "markdown",
   "metadata": {
    "slideshow": {
     "slide_type": "subslide"
    }
   },
   "source": [
    "## The zeroth step is optimizing tissue dissociation, nuclei isolation, and sample handling"
   ]
  },
  {
   "cell_type": "markdown",
   "metadata": {
    "slideshow": {
     "slide_type": "fragment"
    }
   },
   "source": [
    "- Controling Rnases\n",
    "- Controling temperature (some tissues and cell types _do not_ do well on ice\n",
    "- Reproducibility of tissue digestion, cell lysis, etc.\n",
    "- Moving _quickly_!"
   ]
  },
  {
   "cell_type": "markdown",
   "metadata": {
    "slideshow": {
     "slide_type": "fragment"
    }
   },
   "source": [
    "<img src=\"img/nuclei-quality.png\">"
   ]
  },
  {
   "cell_type": "markdown",
   "metadata": {
    "slideshow": {
     "slide_type": "subslide"
    }
   },
   "source": [
    "## The first step is isolating cells from one another."
   ]
  },
  {
   "cell_type": "markdown",
   "metadata": {
    "slideshow": {
     "slide_type": "fragment"
    }
   },
   "source": [
    "## First generation commerical microfluidics - Fluidigm C1\n",
    "\n",
    "<img src=\"img/c1chip.png\">\n",
    "\n",
    "Captures up to 96 cells on a chip."
   ]
  },
  {
   "cell_type": "markdown",
   "metadata": {
    "slideshow": {
     "slide_type": "subslide"
    }
   },
   "source": [
    "## Exponentional scaling of single cell gene expression methods\n",
    "<img src=\"img/exponential_scaling_extended.png\"/>\n",
    "_adapted from [Svensson, Vento-Tormo, & Teichmann 2018 Nature Protocols](https://doi.org/10.1038/nprot.2017.149)_"
   ]
  },
  {
   "cell_type": "markdown",
   "metadata": {
    "slideshow": {
     "slide_type": "subslide"
    }
   },
   "source": [
    "## Droplet-based technologies enable thousands of cells to be sequenced\n"
   ]
  },
  {
   "cell_type": "markdown",
   "metadata": {
    "slideshow": {
     "slide_type": "fragment"
    }
   },
   "source": [
    "### Capture of cells in 1nL droplets\n",
    "\n",
    "<video controls=\"controls\">\n",
    "<source src=\"img/mmc4.mp4\" type=\"video/mp4\">\n",
    "</video>"
   ]
  },
  {
   "cell_type": "markdown",
   "metadata": {
    "slideshow": {
     "slide_type": "fragment"
    }
   },
   "source": [
    "Gel beads contain reagents for transcript capture and reverse transcription for cDNA creation.\n",
    "\n",
    "Major challenge: conquering double-Poisson loading of droplets. \n",
    "\n",
    "Solution: severely limit the number of cells versus reagents.  Leads to fewer \"multiplets\" but a lot of empty droplets and wasted reagents."
   ]
  },
  {
   "cell_type": "markdown",
   "metadata": {
    "slideshow": {
     "slide_type": "subslide"
    }
   },
   "source": [
    "# 10X Genomics Chromium System\n",
    "\n",
    "<img src=\"img/datlinger1.png\">\n",
    "\n",
    "_Datlinger et al. Nat Methods 2021, 10.1038/s41592-021-01153-z_"
   ]
  },
  {
   "cell_type": "markdown",
   "metadata": {
    "slideshow": {
     "slide_type": "skip"
    }
   },
   "source": [
    "- Gel bead in Emulsion (GEM)\n",
    "- High GEM fill ratio (~90% of droplets contain beads)\n",
    "- Poisson Loading of Cells in GEMs\n",
    "- Beads dissolve for efficient, liquid phase biochemistry\n",
    "- Cell lysis starts immediately following encapsulation\n",
    "- Up to 8 channels/samples processed in parallel\n",
    "- Up to 6,000 cells/channel, 48,000 cells/chip \n",
    "- Up to 65% capture efficiency"
   ]
  },
  {
   "cell_type": "markdown",
   "metadata": {
    "slideshow": {
     "slide_type": "subslide"
    }
   },
   "source": [
    "## Zoomed in\n",
    "\n",
    "<img src=\"img/handdrawn.png\">"
   ]
  },
  {
   "cell_type": "markdown",
   "metadata": {
    "slideshow": {
     "slide_type": "subslide"
    }
   },
   "source": [
    "<img src=\"img/handdrawn2.png\">"
   ]
  },
  {
   "cell_type": "markdown",
   "metadata": {
    "slideshow": {
     "slide_type": "subslide"
    }
   },
   "source": [
    "<img src=\"img/3pgex.png\" width=50%>"
   ]
  },
  {
   "cell_type": "markdown",
   "metadata": {
    "slideshow": {
     "slide_type": "subslide"
    }
   },
   "source": [
    "## Other current technologies are similar\n",
    "\n",
    "<img src=\"img/indrop.jpg\">\n",
    "<img src=\"img/split-seq.png\" width=\"50%\">"
   ]
  },
  {
   "cell_type": "markdown",
   "metadata": {
    "slideshow": {
     "slide_type": "subslide"
    }
   },
   "source": [
    "## Transcripts from each cell are labeled with a unique, cell-specific barcode\n",
    "<img src=\"img/splitandpool.png\">"
   ]
  },
  {
   "cell_type": "markdown",
   "metadata": {
    "slideshow": {
     "slide_type": "subslide"
    }
   },
   "source": [
    "### Each transcript is labeled with a randomized barcode\n",
    "\n",
    "Unique Molecular Identifier (UMI) which help control PCR amplification bias.\n",
    "\n",
    "### Each molecule from all cells has a unique (cell barcode, UMI) pair, allowing them to be pooled together for sequencing."
   ]
  },
  {
   "cell_type": "markdown",
   "metadata": {
    "slideshow": {
     "slide_type": "subslide"
    }
   },
   "source": [
    "## During sequencing, paired end reads are used to capture these barcodes and the mRNA transcript\n",
    "\n",
    "Sequencing with asymmetric paired-end reads. 1 short technical read, 1 longer biological read."
   ]
  },
  {
   "cell_type": "markdown",
   "metadata": {
    "slideshow": {
     "slide_type": "fragment"
    }
   },
   "source": [
    "# \n",
    "<img src=\"img/read1-new.png\">"
   ]
  },
  {
   "cell_type": "markdown",
   "metadata": {
    "slideshow": {
     "slide_type": "subslide"
    }
   },
   "source": [
    "#\n",
    "<img src=\"img/read2-new.png\">\n",
    "\n",
    "Carries some fragment of the transcript.  In this case, it's the 3' end."
   ]
  },
  {
   "cell_type": "markdown",
   "metadata": {
    "slideshow": {
     "slide_type": "subslide"
    }
   },
   "source": [
    "## Sequencing asymmetrically saves money and improves sequencing quality\n",
    "\n",
    "<img src=\"img/async-sequencing.png\">"
   ]
  },
  {
   "cell_type": "markdown",
   "metadata": {
    "slideshow": {
     "slide_type": "slide"
    }
   },
   "source": [
    "# From this point, it's all informatics\n",
    "\n",
    "\n",
    "Reads -> Cell x Gene count matrix -> Insights"
   ]
  },
  {
   "cell_type": "markdown",
   "metadata": {
    "slideshow": {
     "slide_type": "subslide"
    }
   },
   "source": [
    "## Typical processing pipeline\n",
    "\n",
    "<img src=\"img/pipeline.png\">\n",
    "\n",
    "This is the 10X Genomics \"CellRanger\" pipeline, but there are alternatives that all do roughly the same thing:\n",
    "\n",
    "- [CellRanger](https://support.10xgenomics.com/single-cell-gene-expression/software/pipelines/latest/what-is-cell-ranger)\n",
    "- [DropSeqTools](https://github.com/broadinstitute/Drop-seq/releases)\n",
    "- [Salmon Alevin](https://salmon.readthedocs.io/en/latest/alevin.html)\n",
    "- [Kallisto Bustools](https://www.kallistobus.tools/)\n",
    "- [STARsolo](https://github.com/alexdobin/STAR/blob/master/docs/STARsolo.md)"
   ]
  },
  {
   "cell_type": "markdown",
   "metadata": {
    "slideshow": {
     "slide_type": "subslide"
    }
   },
   "source": [
    "## Reads are aligned\n",
    "\n",
    "<img src=\"img/bam2.png\">"
   ]
  },
  {
   "cell_type": "markdown",
   "metadata": {
    "slideshow": {
     "slide_type": "subslide"
    }
   },
   "source": [
    "## De-duplicating UMIs\n",
    "<img src=\"img/umis1.png\" width=\"30%\">"
   ]
  },
  {
   "cell_type": "markdown",
   "metadata": {
    "slideshow": {
     "slide_type": "subslide"
    }
   },
   "source": [
    "## Distinguishing cell from barcodes\n",
    "\n",
    "<img src=\"img/cell-calling-ideal.png\" width=\"50%\"/>\n"
   ]
  },
  {
   "cell_type": "markdown",
   "metadata": {
    "slideshow": {
     "slide_type": "subslide"
    }
   },
   "source": [
    "## Distinguishing cell from barcodes\n",
    "\n",
    "<img src=\"img/cell-calling.png\" width=\"80%\"/>\n"
   ]
  },
  {
   "cell_type": "markdown",
   "metadata": {
    "slideshow": {
     "slide_type": "subslide"
    }
   },
   "source": [
    "## Yields a _digital_ expression matrix\n",
    "\n",
    "<img src=\"img/umi-counting.png\" width=\"70%\">"
   ]
  },
  {
   "cell_type": "markdown",
   "metadata": {
    "slideshow": {
     "slide_type": "subslide"
    }
   },
   "source": [
    "## However, this matrix is extremely sparse\n",
    "\n",
    "<img src=\"img/ZerosIn10XData.png\" width=\"50%\">\n",
    "\n",
    "Overcoming this sparsity is a major challenge in the field bioinformatically and from an assay development perspective."
   ]
  },
  {
   "cell_type": "markdown",
   "metadata": {
    "slideshow": {
     "slide_type": "subslide"
    }
   },
   "source": [
    "## That said, scRNA-seq data is **not** well-described by a zero-inflated negative binomial distribution\n",
    "\n",
    "<img src=\"img/not-zero-inflated.png\">\n",
    "\n",
    "_Svennson 2020 Nature Biotech 10.1038/s41587-019-0379-5_"
   ]
  },
  {
   "cell_type": "markdown",
   "metadata": {
    "slideshow": {
     "slide_type": "slide"
    }
   },
   "source": [
    "# Analysis overview"
   ]
  },
  {
   "cell_type": "markdown",
   "metadata": {
    "slideshow": {
     "slide_type": "fragment"
    }
   },
   "source": [
    "## Going from matrix to insights\n",
    "\n",
    "The goal of every scRNA-seq experiment is to characterize the heterogeneity of cell types (and within cell types) within the sample population sequenced."
   ]
  },
  {
   "cell_type": "markdown",
   "metadata": {
    "slideshow": {
     "slide_type": "fragment"
    }
   },
   "source": [
    "This analytical process typically involves the following steps:\n",
    "\n",
    "- Filtering low quality cells\n",
    "- Filtering really sparsely expressed genes\n",
    "- Normalize gene expression\n",
    "- Feature selection for clustering\n",
    "- Dimensionality reduction\n",
    "- Cluster identification\n",
    "- Marker gene identification\n",
    "- Cell type inference\n",
    "\n",
    "Each of these steps involves making choices that affect downstream processing."
   ]
  },
  {
   "cell_type": "markdown",
   "metadata": {
    "slideshow": {
     "slide_type": "subslide"
    }
   },
   "source": [
    "## Faced with challenges\n",
    "\n",
    "How to...\n",
    "- discriminate lowly expressing cells from ambient mRNA?\n",
    "- reliably call expressed genes?\n",
    "- cluster cells without bias?\n",
    "- identify cell types without clustering?\n",
    "- infer celltypes from marker genes? without biological insight?"
   ]
  },
  {
   "cell_type": "markdown",
   "metadata": {
    "slideshow": {
     "slide_type": "fragment"
    }
   },
   "source": [
    "## Philosophical challenges\n",
    "- How to define a \"cell type\"?\n",
    "- Do cells that cluster together always belong to the same \"type\"?"
   ]
  },
  {
   "cell_type": "markdown",
   "metadata": {
    "slideshow": {
     "slide_type": "subslide"
    }
   },
   "source": [
    "<img src=\"img/common-strategy.png\">"
   ]
  },
  {
   "cell_type": "markdown",
   "metadata": {
    "slideshow": {
     "slide_type": "subslide"
    }
   },
   "source": [
    "## How variable is the data\n",
    "\n",
    "<img src=\"img/GenesvsReads.png\" width=\"70%\">"
   ]
  },
  {
   "cell_type": "markdown",
   "metadata": {
    "slideshow": {
     "slide_type": "fragment"
    }
   },
   "source": [
    "- Low quality cells with `<250` genes per cell\n",
    "- (sub)linear relationship between sequencing depth and genes detected per cell"
   ]
  },
  {
   "cell_type": "markdown",
   "metadata": {
    "slideshow": {
     "slide_type": "subslide"
    }
   },
   "source": [
    "## Normalization\n",
    "\n",
    "The number of transcripts captured and subsequent reads generated in each cell is stochastic.  It is common to correct for that using _Library size_ normalization which divides the counts of each gene in a cell by that cell's total UMI count (the library size).  Counts are then often multiplied by a scaling factor.\n",
    "\n",
    "$\\mbox{counts}_{cell_i, gene_j}^{norm} = \\frac{\\mbox{counts}_{cell_i, gene_j}}{\\sum_{gene_j} \\mbox{counts}_{cell_i, gene_j}} * \\mbox{scaling_factor}$\n"
   ]
  },
  {
   "cell_type": "markdown",
   "metadata": {
    "slideshow": {
     "slide_type": "fragment"
    }
   },
   "source": [
    "Options for this scaling factor are:\n",
    "\n",
    "- 1,000,000 (resultant is counts per million (CPM))\n",
    "- the median library size across cells\n",
    "- literally any arbitrary number (like 10,000 or 2^14)"
   ]
  },
  {
   "cell_type": "markdown",
   "metadata": {
    "slideshow": {
     "slide_type": "fragment"
    }
   },
   "source": [
    "Additionally, we can account for any variation in the variance of genes (highly expressed genes have higher variance in expression) by performing a sublinear transform (like `log` or `sqrt`) to make the variances more normally distributed.\n",
    "\n",
    "$\\log (\\mbox{counts}_{cell_i, gene_j}^{norm} + 1)$\n"
   ]
  },
  {
   "cell_type": "markdown",
   "metadata": {
    "slideshow": {
     "slide_type": "subslide"
    }
   },
   "source": [
    "## Dimensionality reduction\n",
    "\n",
    "Even after filtering, many genes (typically ~10,000 - 15,000) remain expressed in at least a few cells.  This is a very large multi-dimensional space.\n",
    "\n",
    "Effective analysis in spaces with more than a few hundred dimensions is difficult (Curse of Dimensionality). In particular, distances between points tend toward uniformity, making finding clusters or determining differences challenging.\n",
    "\n",
    "What is the best way to proceed?"
   ]
  },
  {
   "cell_type": "markdown",
   "metadata": {
    "slideshow": {
     "slide_type": "subslide"
    }
   },
   "source": [
    "## Gene selection\n",
    "\n",
    "Perhaps the most important step in single cell transcriptome analysis is to select which subset of genes is used to represent the original high dimensional space of the data.  This greatly affects the outcome of dimensionality reduction. \n",
    "\n",
    "Some common ways:\n",
    "\n",
    "- All expressed genes after filters (~15,000)\n",
    "- Filter genes expressed in > 95% of cells and < 5% of cells\n",
    "- Top variable genes\n",
    "- Overdispersed genes (ratio of variance to mean)\n",
    "- Highly expressed in 1 cell"
   ]
  },
  {
   "cell_type": "markdown",
   "metadata": {
    "slideshow": {
     "slide_type": "subslide"
    }
   },
   "source": [
    "## First step - Principal Component Analysis\n",
    "\n",
    "<img src=\"img/pca.png\">\n",
    "\n",
    "[_Martin Hemberg's scRNA-seq course_](https://hemberg-lab.github.io/scRNA.seq.course/index.html)"
   ]
  },
  {
   "cell_type": "markdown",
   "metadata": {
    "slideshow": {
     "slide_type": "skip"
    }
   },
   "source": [
    "## PCA on raw counts:\n",
    "\n",
    "<img src=\"img/raw.png\" width=\"50%\">"
   ]
  },
  {
   "cell_type": "markdown",
   "metadata": {
    "slideshow": {
     "slide_type": "subslide"
    }
   },
   "source": [
    "## PCA on normalized counts\n",
    "\n",
    "<img src=\"img/cpm.png\" width=\"50%\">"
   ]
  },
  {
   "cell_type": "markdown",
   "metadata": {
    "slideshow": {
     "slide_type": "subslide"
    }
   },
   "source": [
    "## Using high variance genes\n",
    "\n",
    "<img src=\"img/tsneVar.png\" width=\"40%\">"
   ]
  },
  {
   "cell_type": "markdown",
   "metadata": {
    "slideshow": {
     "slide_type": "fragment"
    }
   },
   "source": [
    "## Using high dispersion genes\n",
    "\n",
    "<img src=\"img/tsneDisp.png\" width=\"40%\">"
   ]
  },
  {
   "cell_type": "markdown",
   "metadata": {
    "slideshow": {
     "slide_type": "subslide"
    }
   },
   "source": [
    "## Second step - manifold embeddings\n",
    "\n",
    "Unlike PCA where it's up to you to determine how many components are important, t-distributed Stochastic Neighbor Embedding (t-SNE) and Uniform Manifold Approximation and Projection (UMAP) project data from the high dimensional space into 2 or 3 dimensions preserving notion of \"closeness\".\n",
    "\n",
    "<img src=\"img/manifold.png\">\n",
    "\n",
    "[_Becht et al. Nat Biotech 2019_](https://www.nature.com/articles/nbt.4314)"
   ]
  },
  {
   "cell_type": "markdown",
   "metadata": {
    "slideshow": {
     "slide_type": "subslide"
    }
   },
   "source": [
    "## Clustering\n",
    "\n",
    "No gold standard method currently and field is searching for best practice.\n",
    "\n",
    "Typical options are:\n",
    "- Spectral clustering or kNN clustering in PCA space.\n",
    "- Consensus or heirarchical clustering in PCA space.\n",
    "- Density-based cluster in PCA or t-SNE/UMAP space.\n",
    "- Constructing a graph/network and using community detection algorithms to assign clusters."
   ]
  },
  {
   "cell_type": "markdown",
   "metadata": {
    "slideshow": {
     "slide_type": "subslide"
    }
   },
   "source": [
    "## Cluster identification\n",
    "\n",
    "Once clusters have been assigned, now it's time to return to biology.  Usually clusters are assigned a cell type or cell state through the use of biomarker genes.  This is done by\n",
    "- manual curation\n",
    "    - knowledge of genes expressed cell type markers from bulk RNA-seq or your biology training\n",
    "    - assign labels by plotting the gene expression of those genes by cluster and iteratively refining your labels\n",
    "- supervised analysis\n",
    "    - use many statistical tests to find gene expression that is specific to one cluster (similar to bulk differential expression analysis)\n",
    "    - still often requires looking up genes in a database or the literature to associate cell types with gene expression"
   ]
  },
  {
   "cell_type": "markdown",
   "metadata": {
    "slideshow": {
     "slide_type": "subslide"
    }
   },
   "source": [
    "## For example, where are the B Cells?\n",
    "<img src=\"img/tsne.png\" width=\"40%\">\n",
    "<img src=\"img/bcell-markers.png\" width=\"40%\">"
   ]
  },
  {
   "cell_type": "markdown",
   "metadata": {
    "slideshow": {
     "slide_type": "subslide"
    }
   },
   "source": [
    "## Now what?\n",
    "\n",
    "Once you have your cell types labeled, you can:\n",
    "\n",
    "- Are there new cell types or states that you can't label?  What genes define them?\n",
    "- Explore heterogeneity within clusters: is your cluster oddly shaped? is that shape driven by biological processes (gene expression)?\n",
    "- Compare cluster proportions among samples\n",
    "\n",
    "### Explore data further with:\n",
    "\n",
    "- integrate your data with more samples, either your own or those from the literature\n",
    "- pseudotime analysis: infer temporal trajectories among your samples\n",
    "- differential expression analysis: compute differentially expressed genes (DEGs) between similar clusters.  With multiple samples, you can analyze both datasets together and compute DEGs among cells in the same cluster that have different sample conditions."
   ]
  },
  {
   "cell_type": "markdown",
   "metadata": {
    "slideshow": {
     "slide_type": "slide"
    }
   },
   "source": [
    "## Looking towards the future"
   ]
  },
  {
   "cell_type": "markdown",
   "metadata": {
    "slideshow": {
     "slide_type": "subslide"
    }
   },
   "source": [
    "<img src=\"img/tabula-muris.png\" width=\"70%\">\n",
    "\n",
    "[_Tabula Muris_](https://tabula-muris.ds.czbiohub.org/)"
   ]
  },
  {
   "cell_type": "markdown",
   "metadata": {
    "slideshow": {
     "slide_type": "subslide"
    }
   },
   "source": [
    "<img src=\"img/cellatlas.png\">"
   ]
  },
  {
   "cell_type": "markdown",
   "metadata": {
    "slideshow": {
     "slide_type": "subslide"
    }
   },
   "source": [
    "## You brain folks are even luckier, with resources like:\n",
    "\n",
    "<img src=\"img/allen-brain.png\">"
   ]
  },
  {
   "cell_type": "markdown",
   "metadata": {
    "slideshow": {
     "slide_type": "fragment"
    }
   },
   "source": [
    "## It is paramount that new data be mapped to these reference datasets "
   ]
  },
  {
   "cell_type": "markdown",
   "metadata": {
    "slideshow": {
     "slide_type": "subslide"
    }
   },
   "source": [
    "## This provides interesting challenges\n",
    "\n",
    "- How to effectively merge datasets together?  Across sequencing technology, tissue, even species?\n",
    "- How to organize and store these data?\n",
    "- How to effectively analyze data at this scale?\n",
    "- Does this size of data provide a path to fundamentally change how we analyze/process this data?"
   ]
  },
  {
   "cell_type": "markdown",
   "metadata": {
    "slideshow": {
     "slide_type": "subslide"
    }
   },
   "source": [
    "## Some things we didn't cover (yet):\n",
    "\n",
    "- Dataset merging/integration techniques:  [Harmony](https://github.com/immunogenomics/harmony), [CCA](https://www.nature.com/articles/nbt.4096), [MMN](https://www.nature.com/articles/nbt.4091)\n",
    "- Pseudotime analysis: inferring temporal ordering to multiple samples. [75(!) methods](https://github.com/dynverse/dynbenchmark)\n",
    "- Spliced vs unspliced RNA analysis: [RNA velocity](https://scvelo.readthedocs.io/en/latest/) and [velocyto](http://velocyto.org/velocyto.py/index.html)\n",
    "- Anything involving mutations, allelic expression, etc.\n",
    "- Advanced multiplexing"
   ]
  },
  {
   "cell_type": "markdown",
   "metadata": {
    "slideshow": {
     "slide_type": "slide"
    }
   },
   "source": [
    "## Where did the spatial information go?"
   ]
  },
  {
   "cell_type": "markdown",
   "metadata": {
    "slideshow": {
     "slide_type": "fragment"
    }
   },
   "source": [
    "Pretty much all scRNA-seq methods require you to disassociate your tissue and in the process you lose spatial information."
   ]
  },
  {
   "cell_type": "markdown",
   "metadata": {
    "slideshow": {
     "slide_type": "fragment"
    }
   },
   "source": [
    "\n",
    "This information is valuable when you want to understand cellular **interactions**.\n",
    "\n",
    "For example, studying:\n",
    "- the anatomical compartmentalization of cell types in highly organized structures (e.g. the brain)\n",
    "- the immune system infiltrating with different disease states\n",
    "- organism and embryo development"
   ]
  },
  {
   "cell_type": "markdown",
   "metadata": {
    "slideshow": {
     "slide_type": "slide"
    }
   },
   "source": [
    "## I did say _almost all_ methods, except for spatial transcriptomics\n",
    "\n"
   ]
  },
  {
   "cell_type": "markdown",
   "metadata": {
    "slideshow": {
     "slide_type": "fragment"
    }
   },
   "source": [
    "<img src=\"img/spatial.jpg\">"
   ]
  },
  {
   "cell_type": "markdown",
   "metadata": {
    "slideshow": {
     "slide_type": "fragment"
    }
   },
   "source": [
    "This isn't single cell resolution though, only ~55$\\mu m$."
   ]
  },
  {
   "attachments": {},
   "cell_type": "markdown",
   "metadata": {
    "slideshow": {
     "slide_type": "subslide"
    }
   },
   "source": [
    "<img src=\"img/visium-basics.png\">"
   ]
  },
  {
   "attachments": {},
   "cell_type": "markdown",
   "metadata": {
    "slideshow": {
     "slide_type": "subslide"
    }
   },
   "source": [
    "<img src=\"img/visium-pdac.png\">"
   ]
  },
  {
   "cell_type": "markdown",
   "metadata": {
    "slideshow": {
     "slide_type": "subslide"
    }
   },
   "source": [
    "## Allows you to spatially orient your transcriptomic data, albeit at multi-single-cell resolution\n",
    "\n",
    "<img src=\"img/visium2.png\">\n"
   ]
  },
  {
   "cell_type": "markdown",
   "metadata": {
    "slideshow": {
     "slide_type": "slide"
    }
   },
   "source": [
    "## Trading number of features for increased resolution"
   ]
  },
  {
   "cell_type": "markdown",
   "metadata": {
    "slideshow": {
     "slide_type": "subslide"
    }
   },
   "source": [
    "## Measuring protein expression with metals instead of fluorophores\n",
    "<img src=\"img/lanthanides.jpg\" width=\"60%\">"
   ]
  },
  {
   "cell_type": "markdown",
   "metadata": {
    "slideshow": {
     "slide_type": "subslide"
    }
   },
   "source": [
    "## Very discrete atomic spectra\n",
    "\n",
    "<img src=\"img/mass-vs-light.png\" width=\"70%\">"
   ]
  },
  {
   "cell_type": "markdown",
   "metadata": {
    "slideshow": {
     "slide_type": "subslide"
    }
   },
   "source": [
    "## IMC Workflow\n",
    "\n",
    "<img src=\"img/helios2.png\" width=\"70%\">\n",
    "<img src=\"img/imc3.png\">"
   ]
  },
  {
   "attachments": {},
   "cell_type": "markdown",
   "metadata": {
    "slideshow": {
     "slide_type": "subslide"
    }
   },
   "source": [
    "<video width=\"100%\" controls>\n",
    "  <source src=\"img/imc-movie.mp4\" type=\"video/mp4\">\n",
    "</video>\n",
    "Breast tumor, Robson & Palucka, unpublished"
   ]
  },
  {
   "cell_type": "markdown",
   "metadata": {
    "slideshow": {
     "slide_type": "slide"
    }
   },
   "source": [
    "## Multiplexed FISH\n",
    "Originally starting with smFISH.\n",
    "\n",
    "- Short DNA probes (~20-mers)\n",
    "- Complementary sequence to mRNA target of interest\n",
    "- Conjugated to same fluorescent dye\n",
    "- Multiple probes (20-50) per mRNA to improve SNR, account for dropout"
   ]
  },
  {
   "cell_type": "markdown",
   "metadata": {
    "slideshow": {
     "slide_type": "subslide"
    }
   },
   "source": [
    "## Build on Single Molecule FISH\n",
    "\n",
    "<img src=\"img/mfish-1.png\" width=50%>"
   ]
  },
  {
   "cell_type": "markdown",
   "metadata": {
    "slideshow": {
     "slide_type": "subslide"
    }
   },
   "source": [
    "## To visualize 8 mRNA locations, we would traditionally use 8 probes\n",
    "\n",
    "<img src=\"img/mfish-2.png\" width=60%>"
   ]
  },
  {
   "cell_type": "markdown",
   "metadata": {
    "slideshow": {
     "slide_type": "subslide"
    }
   },
   "source": [
    "This can actually be done in 3 rounds of hybridization"
   ]
  },
  {
   "cell_type": "markdown",
   "metadata": {
    "slideshow": {
     "slide_type": "subslide"
    }
   },
   "source": [
    "## How does it work? Round 1\n",
    "\n",
    "<img src=\"img/mfish-3.png\" width=60%>"
   ]
  },
  {
   "cell_type": "markdown",
   "metadata": {
    "slideshow": {
     "slide_type": "subslide"
    }
   },
   "source": [
    "## How does it work? Round 2\n",
    "\n",
    "<img src=\"img/mfish-4.png\" width=60%>"
   ]
  },
  {
   "cell_type": "markdown",
   "metadata": {
    "slideshow": {
     "slide_type": "subslide"
    },
    "tags": []
   },
   "source": [
    "## How does it work? Round 3\n",
    "\n",
    "<img src=\"img/mfish-5.png\" width=60%>"
   ]
  },
  {
   "cell_type": "markdown",
   "metadata": {
    "slideshow": {
     "slide_type": "subslide"
    }
   },
   "source": [
    "## Putting it all together\n",
    "\n",
    "<img src=\"img/mfish-6.png\" width=60%>"
   ]
  },
  {
   "cell_type": "markdown",
   "metadata": {
    "slideshow": {
     "slide_type": "subslide"
    }
   },
   "source": [
    "## Putting it all together\n",
    "\n",
    "<img src=\"img/mfish-7.png\" width=60%>"
   ]
  },
  {
   "cell_type": "markdown",
   "metadata": {
    "slideshow": {
     "slide_type": "subslide"
    }
   },
   "source": [
    "## There is a small problem\n",
    "\n",
    "<img src=\"img/mfish-8.png\" width=60%>"
   ]
  },
  {
   "cell_type": "markdown",
   "metadata": {
    "slideshow": {
     "slide_type": "subslide"
    }
   },
   "source": [
    "## Adding \"Error Robusness\"\n",
    "\n",
    "<img src=\"img/mfish-9.png\" width=60%>"
   ]
  },
  {
   "cell_type": "markdown",
   "metadata": {
    "slideshow": {
     "slide_type": "subslide"
    }
   },
   "source": [
    "## Hence, Multiplexed-Error-Robust FISH\n",
    "\n",
    "<img src=\"img/mfish-x.png\" width=60%>"
   ]
  },
  {
   "cell_type": "markdown",
   "metadata": {
    "slideshow": {
     "slide_type": "subslide"
    }
   },
   "source": [
    "## Took a while, but there's now several commerical platforms fighting for the best multiplexed FISH tech\n",
    "\n",
    "<img src=\"img/mfish-10.png\" width=60%>"
   ]
  },
  {
   "cell_type": "markdown",
   "metadata": {
    "slideshow": {
     "slide_type": "slide"
    }
   },
   "source": [
    "## Now, onto the interactive sessions!"
   ]
  },
  {
   "cell_type": "markdown",
   "metadata": {
    "slideshow": {
     "slide_type": "fragment"
    }
   },
   "source": [
    "Launch `Jupyter Lab (sc-spatial)` and navigate to the `C:\\Documents\\singlecell-spatial\\workshop` folder!"
   ]
  }
 ],
 "metadata": {
  "celltoolbar": "Slideshow",
  "kernelspec": {
   "display_name": "Python [conda env:sc-spatial] *",
   "language": "python",
   "name": "conda-env-sc-spatial-py"
  },
  "language_info": {
   "codemirror_mode": {
    "name": "ipython",
    "version": 3
   },
   "file_extension": ".py",
   "mimetype": "text/x-python",
   "name": "python",
   "nbconvert_exporter": "python",
   "pygments_lexer": "ipython3",
   "version": "3.9.13"
  }
 },
 "nbformat": 4,
 "nbformat_minor": 4
}
